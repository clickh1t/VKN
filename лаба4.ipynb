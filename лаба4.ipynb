{
 "cells": [
  {
   "cell_type": "code",
   "execution_count": 1,
   "metadata": {},
   "outputs": [
    {
     "name": "stdout",
     "output_type": "stream",
     "text": [
      "5.692078232979919\n"
     ]
    }
   ],
   "source": [
    "import math\n",
    "x=float(input(\"Введіть x\"))\n",
    "y=3*math.tan(x)/math.log1p(math.cos(x)+4)+abs(x-pow(x,2))\n",
    "print(y)"
   ]
  },
  {
   "cell_type": "code",
   "execution_count": 2,
   "metadata": {},
   "outputs": [
    {
     "name": "stdout",
     "output_type": "stream",
     "text": [
      "26.572541702713472\n"
     ]
    }
   ],
   "source": [
    "import math\n",
    "x=float(input(\"введіть x\"))\n",
    "a=float(input(\"введіть a\"))\n",
    "b=float(input(\"введіть b\"))\n",
    "c=float(input(\"введіть c\"))\n",
    "y=(pow(x,2)+math.log1p(abs(a))-math.sin(b)*math.sqrt(abs(c)))\n",
    "print(y)"
   ]
  }
 ],
 "metadata": {
  "kernelspec": {
   "display_name": "Python 3.10.7 64-bit",
   "language": "python",
   "name": "python3"
  },
  "language_info": {
   "codemirror_mode": {
    "name": "ipython",
    "version": 3
   },
   "file_extension": ".py",
   "mimetype": "text/x-python",
   "name": "python",
   "nbconvert_exporter": "python",
   "pygments_lexer": "ipython3",
   "version": "3.10.7"
  },
  "orig_nbformat": 4,
  "vscode": {
   "interpreter": {
    "hash": "9150eddf9d57e43cf26433c2ff9f37043e29484a7b48c830c4e208e069951b9e"
   }
  }
 },
 "nbformat": 4,
 "nbformat_minor": 2
}
