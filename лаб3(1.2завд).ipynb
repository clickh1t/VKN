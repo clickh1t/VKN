{
 "cells": [
  {
   "cell_type": "code",
   "execution_count": 6,
   "metadata": {},
   "outputs": [
    {
     "name": "stdout",
     "output_type": "stream",
     "text": [
      "159.33333333333334\n"
     ]
    }
   ],
   "source": [
    "a= int(input(\"Введіть перше число: \"))\n",
    "b= int(input(\"Введіть друге число: \" ))\n",
    "c= int(input(\"Введіть третє число: \"))\n",
    "d= (a+b+c)/3\n",
    "print(d)"
   ]
  },
  {
   "cell_type": "code",
   "execution_count": 17,
   "metadata": {},
   "outputs": [
    {
     "name": "stdout",
     "output_type": "stream",
     "text": [
      "120.0\n"
     ]
    }
   ],
   "source": [
    "a= int(input(\"Перший катет: \"))\n",
    "b= int(input(\"Другий катет: \"))\n",
    "S=(a*b)/2\n",
    "print(S)"
   ]
  }
 ],
 "metadata": {
  "kernelspec": {
   "display_name": "Python 3.10.7 64-bit",
   "language": "python",
   "name": "python3"
  },
  "language_info": {
   "codemirror_mode": {
    "name": "ipython",
    "version": 3
   },
   "file_extension": ".py",
   "mimetype": "text/x-python",
   "name": "python",
   "nbconvert_exporter": "python",
   "pygments_lexer": "ipython3",
   "version": "3.10.7"
  },
  "orig_nbformat": 4,
  "vscode": {
   "interpreter": {
    "hash": "9150eddf9d57e43cf26433c2ff9f37043e29484a7b48c830c4e208e069951b9e"
   }
  }
 },
 "nbformat": 4,
 "nbformat_minor": 2
}
